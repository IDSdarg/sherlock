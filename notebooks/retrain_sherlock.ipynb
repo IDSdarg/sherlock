{
 "cells": [
  {
   "cell_type": "markdown",
   "metadata": {},
   "source": [
    "# Extract features, retrain Sherlock and generate predictions."
   ]
  },
  {
   "cell_type": "markdown",
   "metadata": {},
   "source": [
    "### Necessary imports"
   ]
  },
  {
   "cell_type": "code",
   "execution_count": 42,
   "metadata": {},
   "outputs": [],
   "source": [
    "import pandas as pd\n",
    "import numpy as np\n",
    "import sys\n",
    "import pickle\n",
    "import matplotlib.pyplot as plt\n",
    "from sklearn.metrics import f1_score\n",
    "sys.path.append(\"..\")"
   ]
  },
  {
   "cell_type": "code",
   "execution_count": 7,
   "metadata": {},
   "outputs": [],
   "source": [
    "from src.features.build_features import build_features\n",
    "from src.deploy.train_sherlock import train_sherlock\n",
    "from src.deploy.predict_sherlock import predict_sherlock"
   ]
  },
  {
   "cell_type": "markdown",
   "metadata": {},
   "source": [
    "### Load small raw data sample and corresponding labels"
   ]
  },
  {
   "cell_type": "code",
   "execution_count": 3,
   "metadata": {},
   "outputs": [],
   "source": [
    "data = pd.read_csv('../data/raw/test_values.csv', sep=',', index_col=0, header=None)\n",
    "labs = pd.read_csv('../data/raw/test_labels.csv', sep=',', index_col=0, header=None)"
   ]
  },
  {
   "cell_type": "code",
   "execution_count": 4,
   "metadata": {},
   "outputs": [
    {
     "data": {
      "text/html": [
       "<div>\n",
       "<style scoped>\n",
       "    .dataframe tbody tr th:only-of-type {\n",
       "        vertical-align: middle;\n",
       "    }\n",
       "\n",
       "    .dataframe tbody tr th {\n",
       "        vertical-align: top;\n",
       "    }\n",
       "\n",
       "    .dataframe thead th {\n",
       "        text-align: right;\n",
       "    }\n",
       "</style>\n",
       "<table border=\"1\" class=\"dataframe\">\n",
       "  <thead>\n",
       "    <tr style=\"text-align: right;\">\n",
       "      <th></th>\n",
       "      <th>1</th>\n",
       "    </tr>\n",
       "    <tr>\n",
       "      <th>0</th>\n",
       "      <th></th>\n",
       "    </tr>\n",
       "  </thead>\n",
       "  <tbody>\n",
       "    <tr>\n",
       "      <th>20368</th>\n",
       "      <td>['Central Missouri', 'unattached', 'unattached...</td>\n",
       "    </tr>\n",
       "    <tr>\n",
       "      <th>664102</th>\n",
       "      <td>[95, 100, 95, 89, 84, 91, 88, 94, 75, 78, 90, ...</td>\n",
       "    </tr>\n",
       "    <tr>\n",
       "      <th>366813</th>\n",
       "      <td>['Katie Crews', 'Christian Hiraldo', 'Alex Est...</td>\n",
       "    </tr>\n",
       "    <tr>\n",
       "      <th>530567</th>\n",
       "      <td>['Christian', 'Non-Christian', 'Unreported', '...</td>\n",
       "    </tr>\n",
       "    <tr>\n",
       "      <th>176253</th>\n",
       "      <td>['AAF-McQuay Canada Inc.', 'AAF-McQuay Canada ...</td>\n",
       "    </tr>\n",
       "  </tbody>\n",
       "</table>\n",
       "</div>"
      ],
      "text/plain": [
       "                                                        1\n",
       "0                                                        \n",
       "20368   ['Central Missouri', 'unattached', 'unattached...\n",
       "664102  [95, 100, 95, 89, 84, 91, 88, 94, 75, 78, 90, ...\n",
       "366813  ['Katie Crews', 'Christian Hiraldo', 'Alex Est...\n",
       "530567  ['Christian', 'Non-Christian', 'Unreported', '...\n",
       "176253  ['AAF-McQuay Canada Inc.', 'AAF-McQuay Canada ..."
      ]
     },
     "execution_count": 4,
     "metadata": {},
     "output_type": "execute_result"
    }
   ],
   "source": [
    "data.head()"
   ]
  },
  {
   "cell_type": "code",
   "execution_count": 5,
   "metadata": {},
   "outputs": [
    {
     "data": {
      "text/html": [
       "<div>\n",
       "<style scoped>\n",
       "    .dataframe tbody tr th:only-of-type {\n",
       "        vertical-align: middle;\n",
       "    }\n",
       "\n",
       "    .dataframe tbody tr th {\n",
       "        vertical-align: top;\n",
       "    }\n",
       "\n",
       "    .dataframe thead th {\n",
       "        text-align: right;\n",
       "    }\n",
       "</style>\n",
       "<table border=\"1\" class=\"dataframe\">\n",
       "  <thead>\n",
       "    <tr style=\"text-align: right;\">\n",
       "      <th></th>\n",
       "      <th>1</th>\n",
       "    </tr>\n",
       "    <tr>\n",
       "      <th>0</th>\n",
       "      <th></th>\n",
       "    </tr>\n",
       "  </thead>\n",
       "  <tbody>\n",
       "    <tr>\n",
       "      <th>20368</th>\n",
       "      <td>affiliation</td>\n",
       "    </tr>\n",
       "    <tr>\n",
       "      <th>664102</th>\n",
       "      <td>weight</td>\n",
       "    </tr>\n",
       "    <tr>\n",
       "      <th>366813</th>\n",
       "      <td>jockey</td>\n",
       "    </tr>\n",
       "    <tr>\n",
       "      <th>530567</th>\n",
       "      <td>religion</td>\n",
       "    </tr>\n",
       "    <tr>\n",
       "      <th>176253</th>\n",
       "      <td>company</td>\n",
       "    </tr>\n",
       "  </tbody>\n",
       "</table>\n",
       "</div>"
      ],
      "text/plain": [
       "                  1\n",
       "0                  \n",
       "20368   affiliation\n",
       "664102       weight\n",
       "366813       jockey\n",
       "530567     religion\n",
       "176253      company"
      ]
     },
     "execution_count": 5,
     "metadata": {},
     "output_type": "execute_result"
    }
   ],
   "source": [
    "labs.head()"
   ]
  },
  {
   "cell_type": "markdown",
   "metadata": {},
   "source": [
    "### Extract features of raw data samples from dataframes and save preprocessed data"
   ]
  },
  {
   "cell_type": "code",
   "execution_count": null,
   "metadata": {},
   "outputs": [],
   "source": [
    "# Load pre-extracted features of sample file\n",
    "with open('../data/processed/X_train.data', 'rb') as f:\n",
    "    X_train = pickle.load(f)\n",
    "    \n",
    "with open('../data/processed/y_train.data', 'rb') as f:\n",
    "    y_train = pickle.load(f)"
   ]
  },
  {
   "cell_type": "code",
   "execution_count": null,
   "metadata": {},
   "outputs": [],
   "source": [
    "# Extract features of sample file"
   ]
  },
  {
   "cell_type": "code",
   "execution_count": 36,
   "metadata": {
    "scrolled": false
   },
   "outputs": [],
   "source": [
    "X_train = build_features(data)\n",
    "y_train = labs.values.flatten()\n",
    "print('Extracted features.')"
   ]
  },
  {
   "cell_type": "code",
   "execution_count": null,
   "metadata": {},
   "outputs": [],
   "source": []
  },
  {
   "cell_type": "markdown",
   "metadata": {},
   "source": [
    "### Train sherlock on new data"
   ]
  },
  {
   "cell_type": "code",
   "execution_count": 12,
   "metadata": {},
   "outputs": [
    {
     "name": "stdout",
     "output_type": "stream",
     "text": [
      "WARNING:tensorflow:From C:\\Users\\hulse504\\AppData\\Local\\Continuum\\anaconda3\\lib\\site-packages\\tensorflow\\python\\ops\\resource_variable_ops.py:435: colocate_with (from tensorflow.python.framework.ops) is deprecated and will be removed in a future version.\n",
      "Instructions for updating:\n",
      "Colocations handled automatically by placer.\n",
      "WARNING:tensorflow:From C:\\Users\\hulse504\\AppData\\Local\\Continuum\\anaconda3\\lib\\site-packages\\tensorflow\\python\\keras\\layers\\core.py:143: calling dropout (from tensorflow.python.ops.nn_ops) with keep_prob is deprecated and will be removed in a future version.\n",
      "Instructions for updating:\n",
      "Please use `rate` instead of `keep_prob`. Rate should be set to `rate = 1 - keep_prob`.\n",
      "Successfully loaded and compiled model, now fitting.\n",
      "Train on 1001 samples, validate on 1001 samples\n",
      "WARNING:tensorflow:From C:\\Users\\hulse504\\AppData\\Local\\Continuum\\anaconda3\\lib\\site-packages\\tensorflow\\python\\ops\\math_ops.py:3066: to_int32 (from tensorflow.python.ops.math_ops) is deprecated and will be removed in a future version.\n",
      "Instructions for updating:\n",
      "Use tf.cast instead.\n",
      "Epoch 1/100\n",
      "1001/1001 [==============================] - 2s 2ms/sample - loss: 4.8763 - categorical_accuracy: 0.0180 - val_loss: 4.8541 - val_categorical_accuracy: 0.0180\n",
      "Epoch 2/100\n",
      "1001/1001 [==============================] - 1s 514us/sample - loss: 4.7499 - categorical_accuracy: 0.0200 - val_loss: 4.7045 - val_categorical_accuracy: 0.0140\n",
      "Epoch 3/100\n",
      "1001/1001 [==============================] - 1s 515us/sample - loss: 4.6846 - categorical_accuracy: 0.0200 - val_loss: 4.6379 - val_categorical_accuracy: 0.0210\n",
      "Epoch 4/100\n",
      "1001/1001 [==============================] - 1s 503us/sample - loss: 4.5849 - categorical_accuracy: 0.0370 - val_loss: 4.5974 - val_categorical_accuracy: 0.0210\n",
      "Epoch 5/100\n",
      "1001/1001 [==============================] - 1s 508us/sample - loss: 4.4942 - categorical_accuracy: 0.0470 - val_loss: 4.5685 - val_categorical_accuracy: 0.0280\n",
      "Epoch 6/100\n",
      "1001/1001 [==============================] - 1s 510us/sample - loss: 4.4176 - categorical_accuracy: 0.0639 - val_loss: 4.5470 - val_categorical_accuracy: 0.0310\n",
      "Epoch 7/100\n",
      "1001/1001 [==============================] - 1s 512us/sample - loss: 4.3505 - categorical_accuracy: 0.0789 - val_loss: 4.5284 - val_categorical_accuracy: 0.0340\n",
      "Epoch 8/100\n",
      "1001/1001 [==============================] - 1s 506us/sample - loss: 4.3122 - categorical_accuracy: 0.0929 - val_loss: 4.5115 - val_categorical_accuracy: 0.0380\n",
      "Epoch 9/100\n",
      "1001/1001 [==============================] - 1s 514us/sample - loss: 4.2593 - categorical_accuracy: 0.0829 - val_loss: 4.4954 - val_categorical_accuracy: 0.0380\n",
      "Epoch 10/100\n",
      "1001/1001 [==============================] - 1s 519us/sample - loss: 4.1994 - categorical_accuracy: 0.1169 - val_loss: 4.4796 - val_categorical_accuracy: 0.0370\n",
      "Epoch 11/100\n",
      "1001/1001 [==============================] - 1s 514us/sample - loss: 4.1688 - categorical_accuracy: 0.0969 - val_loss: 4.4643 - val_categorical_accuracy: 0.0380\n",
      "Epoch 12/100\n",
      "1001/1001 [==============================] - 1s 552us/sample - loss: 4.0909 - categorical_accuracy: 0.1269 - val_loss: 4.4492 - val_categorical_accuracy: 0.0390\n",
      "Epoch 13/100\n",
      "1001/1001 [==============================] - 1s 506us/sample - loss: 4.0642 - categorical_accuracy: 0.1299 - val_loss: 4.4335 - val_categorical_accuracy: 0.0400\n",
      "Epoch 14/100\n",
      "1001/1001 [==============================] - 1s 571us/sample - loss: 4.0321 - categorical_accuracy: 0.1389 - val_loss: 4.4173 - val_categorical_accuracy: 0.0440\n",
      "Epoch 15/100\n",
      "1001/1001 [==============================] - 1s 527us/sample - loss: 3.9915 - categorical_accuracy: 0.1389 - val_loss: 4.4005 - val_categorical_accuracy: 0.0509\n",
      "Epoch 16/100\n",
      "1001/1001 [==============================] - 1s 520us/sample - loss: 3.9350 - categorical_accuracy: 0.1698 - val_loss: 4.3832 - val_categorical_accuracy: 0.0639\n",
      "Epoch 17/100\n",
      "1001/1001 [==============================] - 1s 516us/sample - loss: 3.9177 - categorical_accuracy: 0.1618 - val_loss: 4.3651 - val_categorical_accuracy: 0.0849\n",
      "Epoch 18/100\n",
      "1001/1001 [==============================] - 1s 514us/sample - loss: 3.8493 - categorical_accuracy: 0.1688 - val_loss: 4.3456 - val_categorical_accuracy: 0.1009\n",
      "Epoch 19/100\n",
      "1001/1001 [==============================] - 1s 521us/sample - loss: 3.8131 - categorical_accuracy: 0.1888 - val_loss: 4.3248 - val_categorical_accuracy: 0.1139\n",
      "Epoch 20/100\n",
      "1001/1001 [==============================] - 1s 520us/sample - loss: 3.7846 - categorical_accuracy: 0.1838 - val_loss: 4.3026 - val_categorical_accuracy: 0.1239\n",
      "Epoch 21/100\n",
      "1001/1001 [==============================] - 1s 501us/sample - loss: 3.6895 - categorical_accuracy: 0.2228 - val_loss: 4.2788 - val_categorical_accuracy: 0.1359\n",
      "Epoch 22/100\n",
      "1001/1001 [==============================] - 1s 527us/sample - loss: 3.6875 - categorical_accuracy: 0.2038 - val_loss: 4.2533 - val_categorical_accuracy: 0.1479\n",
      "Epoch 23/100\n",
      "1001/1001 [==============================] - 1s 507us/sample - loss: 3.6136 - categorical_accuracy: 0.2258 - val_loss: 4.2268 - val_categorical_accuracy: 0.1628\n",
      "Epoch 24/100\n",
      "1001/1001 [==============================] - 1s 519us/sample - loss: 3.5655 - categorical_accuracy: 0.2368 - val_loss: 4.1988 - val_categorical_accuracy: 0.1778\n",
      "Epoch 25/100\n",
      "1001/1001 [==============================] - 1s 501us/sample - loss: 3.5361 - categorical_accuracy: 0.2657 - val_loss: 4.1694 - val_categorical_accuracy: 0.1848\n",
      "Epoch 26/100\n",
      "1001/1001 [==============================] - 1s 533us/sample - loss: 3.4977 - categorical_accuracy: 0.2657 - val_loss: 4.1388 - val_categorical_accuracy: 0.1968\n",
      "Epoch 27/100\n",
      "1001/1001 [==============================] - 1s 536us/sample - loss: 3.4858 - categorical_accuracy: 0.2667 - val_loss: 4.1078 - val_categorical_accuracy: 0.2128\n",
      "Epoch 28/100\n",
      "1001/1001 [==============================] - 1s 527us/sample - loss: 3.3955 - categorical_accuracy: 0.2977 - val_loss: 4.0752 - val_categorical_accuracy: 0.2208\n",
      "Epoch 29/100\n",
      "1001/1001 [==============================] - 1s 518us/sample - loss: 3.3633 - categorical_accuracy: 0.2707 - val_loss: 4.0413 - val_categorical_accuracy: 0.2378\n",
      "Epoch 30/100\n",
      "1001/1001 [==============================] - 1s 534us/sample - loss: 3.3190 - categorical_accuracy: 0.3167 - val_loss: 4.0062 - val_categorical_accuracy: 0.2438\n",
      "Epoch 31/100\n",
      "1001/1001 [==============================] - 1s 536us/sample - loss: 3.2648 - categorical_accuracy: 0.3297 - val_loss: 3.9696 - val_categorical_accuracy: 0.2577\n",
      "Epoch 32/100\n",
      "1001/1001 [==============================] - 0s 495us/sample - loss: 3.2446 - categorical_accuracy: 0.3247 - val_loss: 3.9314 - val_categorical_accuracy: 0.2707\n",
      "Epoch 33/100\n",
      "1001/1001 [==============================] - 1s 504us/sample - loss: 3.2099 - categorical_accuracy: 0.3357 - val_loss: 3.8925 - val_categorical_accuracy: 0.2847\n",
      "Epoch 34/100\n",
      "1001/1001 [==============================] - 1s 502us/sample - loss: 3.1223 - categorical_accuracy: 0.3626 - val_loss: 3.8526 - val_categorical_accuracy: 0.2977\n",
      "Epoch 35/100\n",
      "1001/1001 [==============================] - 1s 526us/sample - loss: 3.1005 - categorical_accuracy: 0.3676 - val_loss: 3.8114 - val_categorical_accuracy: 0.3157\n",
      "Epoch 36/100\n",
      "1001/1001 [==============================] - 1s 516us/sample - loss: 3.0359 - categorical_accuracy: 0.3796 - val_loss: 3.7686 - val_categorical_accuracy: 0.3287\n",
      "Epoch 37/100\n",
      "1001/1001 [==============================] - 1s 507us/sample - loss: 2.9759 - categorical_accuracy: 0.4116 - val_loss: 3.7246 - val_categorical_accuracy: 0.3367\n",
      "Epoch 38/100\n",
      "1001/1001 [==============================] - 1s 511us/sample - loss: 2.9542 - categorical_accuracy: 0.4066 - val_loss: 3.6801 - val_categorical_accuracy: 0.3506\n",
      "Epoch 39/100\n",
      "1001/1001 [==============================] - 1s 523us/sample - loss: 2.9139 - categorical_accuracy: 0.4206 - val_loss: 3.6347 - val_categorical_accuracy: 0.3656\n",
      "Epoch 40/100\n",
      "1001/1001 [==============================] - 1s 511us/sample - loss: 2.8693 - categorical_accuracy: 0.4246 - val_loss: 3.5898 - val_categorical_accuracy: 0.3786\n",
      "Epoch 41/100\n",
      "1001/1001 [==============================] - 1s 548us/sample - loss: 2.8138 - categorical_accuracy: 0.4406 - val_loss: 3.5434 - val_categorical_accuracy: 0.3896\n"
     ]
    },
    {
     "name": "stdout",
     "output_type": "stream",
     "text": [
      "Epoch 42/100\n",
      "1001/1001 [==============================] - 1s 501us/sample - loss: 2.7735 - categorical_accuracy: 0.4466 - val_loss: 3.4966 - val_categorical_accuracy: 0.4036\n",
      "Epoch 43/100\n",
      "1001/1001 [==============================] - 0s 498us/sample - loss: 2.7328 - categorical_accuracy: 0.4705 - val_loss: 3.4496 - val_categorical_accuracy: 0.4126\n",
      "Epoch 44/100\n",
      "1001/1001 [==============================] - 1s 521us/sample - loss: 2.6510 - categorical_accuracy: 0.4915 - val_loss: 3.4017 - val_categorical_accuracy: 0.4166\n",
      "Epoch 45/100\n",
      "1001/1001 [==============================] - 1s 509us/sample - loss: 2.6377 - categorical_accuracy: 0.4795 - val_loss: 3.3529 - val_categorical_accuracy: 0.4246\n",
      "Epoch 46/100\n",
      "1001/1001 [==============================] - 1s 500us/sample - loss: 2.5233 - categorical_accuracy: 0.5175 - val_loss: 3.3034 - val_categorical_accuracy: 0.4376\n",
      "Epoch 47/100\n",
      "1001/1001 [==============================] - 1s 520us/sample - loss: 2.5030 - categorical_accuracy: 0.5245 - val_loss: 3.2530 - val_categorical_accuracy: 0.4555\n",
      "Epoch 48/100\n",
      "1001/1001 [==============================] - 0s 488us/sample - loss: 2.4494 - categorical_accuracy: 0.5455 - val_loss: 3.2025 - val_categorical_accuracy: 0.4635\n",
      "Epoch 49/100\n",
      "1001/1001 [==============================] - 1s 525us/sample - loss: 2.4435 - categorical_accuracy: 0.5345 - val_loss: 3.1506 - val_categorical_accuracy: 0.4755\n",
      "Epoch 50/100\n",
      "1001/1001 [==============================] - 0s 489us/sample - loss: 2.3479 - categorical_accuracy: 0.5654 - val_loss: 3.0988 - val_categorical_accuracy: 0.4845\n",
      "Epoch 51/100\n",
      "1001/1001 [==============================] - 1s 500us/sample - loss: 2.3202 - categorical_accuracy: 0.5674 - val_loss: 3.0473 - val_categorical_accuracy: 0.4975\n",
      "Epoch 52/100\n",
      "1001/1001 [==============================] - 0s 489us/sample - loss: 2.2934 - categorical_accuracy: 0.5634 - val_loss: 2.9946 - val_categorical_accuracy: 0.5085\n",
      "Epoch 53/100\n",
      "1001/1001 [==============================] - 1s 501us/sample - loss: 2.1822 - categorical_accuracy: 0.6024 - val_loss: 2.9425 - val_categorical_accuracy: 0.5225\n",
      "Epoch 54/100\n",
      "1001/1001 [==============================] - 1s 501us/sample - loss: 2.2135 - categorical_accuracy: 0.5954 - val_loss: 2.8905 - val_categorical_accuracy: 0.5375\n",
      "Epoch 55/100\n",
      "1001/1001 [==============================] - 1s 516us/sample - loss: 2.1356 - categorical_accuracy: 0.6164 - val_loss: 2.8382 - val_categorical_accuracy: 0.5415\n",
      "Epoch 56/100\n",
      "1001/1001 [==============================] - 0s 485us/sample - loss: 2.1152 - categorical_accuracy: 0.6144 - val_loss: 2.7864 - val_categorical_accuracy: 0.5594\n",
      "Epoch 57/100\n",
      "1001/1001 [==============================] - 1s 516us/sample - loss: 2.0405 - categorical_accuracy: 0.6314 - val_loss: 2.7343 - val_categorical_accuracy: 0.5734\n",
      "Epoch 58/100\n",
      "1001/1001 [==============================] - 1s 522us/sample - loss: 1.9746 - categorical_accuracy: 0.6533 - val_loss: 2.6835 - val_categorical_accuracy: 0.5854\n",
      "Epoch 59/100\n",
      "1001/1001 [==============================] - 1s 500us/sample - loss: 1.9473 - categorical_accuracy: 0.6563 - val_loss: 2.6322 - val_categorical_accuracy: 0.5954\n",
      "Epoch 60/100\n",
      "1001/1001 [==============================] - 1s 504us/sample - loss: 1.9202 - categorical_accuracy: 0.6763 - val_loss: 2.5808 - val_categorical_accuracy: 0.6134\n",
      "Epoch 61/100\n",
      "1001/1001 [==============================] - 1s 516us/sample - loss: 1.8012 - categorical_accuracy: 0.7033 - val_loss: 2.5285 - val_categorical_accuracy: 0.6194\n",
      "Epoch 62/100\n",
      "1001/1001 [==============================] - 1s 504us/sample - loss: 1.8229 - categorical_accuracy: 0.6863 - val_loss: 2.4774 - val_categorical_accuracy: 0.6244\n",
      "Epoch 63/100\n",
      "1001/1001 [==============================] - 1s 504us/sample - loss: 1.7787 - categorical_accuracy: 0.7103 - val_loss: 2.4272 - val_categorical_accuracy: 0.6334\n",
      "Epoch 64/100\n",
      "1001/1001 [==============================] - 1s 504us/sample - loss: 1.7298 - categorical_accuracy: 0.7053 - val_loss: 2.3764 - val_categorical_accuracy: 0.6444\n",
      "Epoch 65/100\n",
      "1001/1001 [==============================] - 1s 506us/sample - loss: 1.6731 - categorical_accuracy: 0.7283 - val_loss: 2.3264 - val_categorical_accuracy: 0.6513\n",
      "Epoch 66/100\n",
      "1001/1001 [==============================] - ETA: 0s - loss: 1.6370 - categorical_accuracy: 0.74 - 0s 484us/sample - loss: 1.6047 - categorical_accuracy: 0.7483 - val_loss: 2.2772 - val_categorical_accuracy: 0.6613\n",
      "Epoch 67/100\n",
      "1001/1001 [==============================] - 0s 497us/sample - loss: 1.5900 - categorical_accuracy: 0.7522 - val_loss: 2.2308 - val_categorical_accuracy: 0.6663\n",
      "Epoch 68/100\n",
      "1001/1001 [==============================] - 1s 513us/sample - loss: 1.5642 - categorical_accuracy: 0.7622 - val_loss: 2.1845 - val_categorical_accuracy: 0.6723\n",
      "Epoch 69/100\n",
      "1001/1001 [==============================] - 1s 511us/sample - loss: 1.4963 - categorical_accuracy: 0.7722 - val_loss: 2.1390 - val_categorical_accuracy: 0.6793\n",
      "Epoch 70/100\n",
      "1001/1001 [==============================] - 1s 512us/sample - loss: 1.4694 - categorical_accuracy: 0.7902 - val_loss: 2.0944 - val_categorical_accuracy: 0.6883\n",
      "Epoch 71/100\n",
      "1001/1001 [==============================] - 0s 499us/sample - loss: 1.4322 - categorical_accuracy: 0.7862 - val_loss: 2.0509 - val_categorical_accuracy: 0.6963\n",
      "Epoch 72/100\n",
      "1001/1001 [==============================] - 1s 533us/sample - loss: 1.4043 - categorical_accuracy: 0.7832 - val_loss: 2.0070 - val_categorical_accuracy: 0.7043\n",
      "Epoch 73/100\n",
      "1001/1001 [==============================] - 1s 512us/sample - loss: 1.3604 - categorical_accuracy: 0.8052 - val_loss: 1.9643 - val_categorical_accuracy: 0.7053\n",
      "Epoch 74/100\n",
      "1001/1001 [==============================] - 0s 490us/sample - loss: 1.3040 - categorical_accuracy: 0.8132 - val_loss: 1.9246 - val_categorical_accuracy: 0.7123\n",
      "Epoch 75/100\n",
      "1001/1001 [==============================] - 1s 526us/sample - loss: 1.2458 - categorical_accuracy: 0.8302 - val_loss: 1.8859 - val_categorical_accuracy: 0.7203\n",
      "Epoch 76/100\n",
      "1001/1001 [==============================] - 1s 515us/sample - loss: 1.2390 - categorical_accuracy: 0.8452 - val_loss: 1.8488 - val_categorical_accuracy: 0.7203\n",
      "Epoch 77/100\n",
      "1001/1001 [==============================] - 1s 510us/sample - loss: 1.1868 - categorical_accuracy: 0.8462 - val_loss: 1.8105 - val_categorical_accuracy: 0.7273\n",
      "Epoch 78/100\n",
      "1001/1001 [==============================] - 1s 509us/sample - loss: 1.1593 - categorical_accuracy: 0.8472 - val_loss: 1.7730 - val_categorical_accuracy: 0.7343\n",
      "Epoch 79/100\n",
      "1001/1001 [==============================] - 1s 525us/sample - loss: 1.1345 - categorical_accuracy: 0.8531 - val_loss: 1.7367 - val_categorical_accuracy: 0.7413\n",
      "Epoch 80/100\n",
      "1001/1001 [==============================] - 1s 516us/sample - loss: 1.1126 - categorical_accuracy: 0.8661 - val_loss: 1.6993 - val_categorical_accuracy: 0.7473\n",
      "Epoch 81/100\n",
      "1001/1001 [==============================] - 1s 520us/sample - loss: 1.0969 - categorical_accuracy: 0.8741 - val_loss: 1.6628 - val_categorical_accuracy: 0.7532\n",
      "Epoch 82/100\n",
      "1001/1001 [==============================] - ETA: 0s - loss: 1.0539 - categorical_accuracy: 0.88 - 0s 487us/sample - loss: 1.0478 - categorical_accuracy: 0.8831 - val_loss: 1.6298 - val_categorical_accuracy: 0.7542\n",
      "Epoch 83/100\n",
      "1001/1001 [==============================] - 1s 511us/sample - loss: 1.0007 - categorical_accuracy: 0.8831 - val_loss: 1.5988 - val_categorical_accuracy: 0.7602\n",
      "Epoch 84/100\n",
      "1001/1001 [==============================] - 1s 522us/sample - loss: 0.9969 - categorical_accuracy: 0.8931 - val_loss: 1.5687 - val_categorical_accuracy: 0.7642\n",
      "Epoch 85/100\n",
      "1001/1001 [==============================] - 1s 525us/sample - loss: 0.9491 - categorical_accuracy: 0.9081 - val_loss: 1.5391 - val_categorical_accuracy: 0.7722\n",
      "Epoch 86/100\n",
      "1001/1001 [==============================] - 1s 533us/sample - loss: 0.9377 - categorical_accuracy: 0.9111 - val_loss: 1.5123 - val_categorical_accuracy: 0.7722\n",
      "Epoch 87/100\n",
      "1001/1001 [==============================] - 1s 508us/sample - loss: 0.9320 - categorical_accuracy: 0.9041 - val_loss: 1.4858 - val_categorical_accuracy: 0.7742\n",
      "Epoch 88/100\n"
     ]
    },
    {
     "name": "stdout",
     "output_type": "stream",
     "text": [
      "1001/1001 [==============================] - 1s 521us/sample - loss: 0.9175 - categorical_accuracy: 0.9021 - val_loss: 1.4591 - val_categorical_accuracy: 0.7762\n",
      "Epoch 89/100\n",
      "1001/1001 [==============================] - 1s 501us/sample - loss: 0.8552 - categorical_accuracy: 0.9211 - val_loss: 1.4308 - val_categorical_accuracy: 0.7822\n",
      "Epoch 90/100\n",
      "1001/1001 [==============================] - 0s 480us/sample - loss: 0.8417 - categorical_accuracy: 0.9161 - val_loss: 1.4034 - val_categorical_accuracy: 0.7852\n",
      "Epoch 91/100\n",
      "1001/1001 [==============================] - 1s 514us/sample - loss: 0.8375 - categorical_accuracy: 0.9241 - val_loss: 1.3792 - val_categorical_accuracy: 0.7852\n",
      "Epoch 92/100\n",
      "1001/1001 [==============================] - 0s 486us/sample - loss: 0.8008 - categorical_accuracy: 0.9251 - val_loss: 1.3567 - val_categorical_accuracy: 0.7902\n",
      "Epoch 93/100\n",
      "1001/1001 [==============================] - 0s 497us/sample - loss: 0.7783 - categorical_accuracy: 0.9431 - val_loss: 1.3330 - val_categorical_accuracy: 0.7912\n",
      "Epoch 94/100\n",
      "1001/1001 [==============================] - 1s 518us/sample - loss: 0.7666 - categorical_accuracy: 0.9481 - val_loss: 1.3106 - val_categorical_accuracy: 0.7982\n",
      "Epoch 95/100\n",
      "1001/1001 [==============================] - 0s 499us/sample - loss: 0.7534 - categorical_accuracy: 0.9491 - val_loss: 1.2893 - val_categorical_accuracy: 0.7952\n",
      "Epoch 96/100\n",
      "1001/1001 [==============================] - 0s 490us/sample - loss: 0.7485 - categorical_accuracy: 0.9481 - val_loss: 1.2684 - val_categorical_accuracy: 0.8002\n",
      "Epoch 97/100\n",
      "1001/1001 [==============================] - 0s 485us/sample - loss: 0.6822 - categorical_accuracy: 0.9660 - val_loss: 1.2480 - val_categorical_accuracy: 0.8052\n",
      "Epoch 98/100\n",
      "1001/1001 [==============================] - 1s 508us/sample - loss: 0.7061 - categorical_accuracy: 0.9471 - val_loss: 1.2269 - val_categorical_accuracy: 0.8122\n",
      "Epoch 99/100\n",
      "1001/1001 [==============================] - 0s 489us/sample - loss: 0.6878 - categorical_accuracy: 0.9550 - val_loss: 1.2058 - val_categorical_accuracy: 0.8182\n",
      "Epoch 100/100\n",
      "1001/1001 [==============================] - 1s 505us/sample - loss: 0.6896 - categorical_accuracy: 0.9520 - val_loss: 1.1852 - val_categorical_accuracy: 0.8272\n",
      "Retrained Sherlock.\n",
      "Trained new model.\n"
     ]
    }
   ],
   "source": [
    "# For simplicity provide X_train as validation set.\n",
    "train_sherlock(X_train, y_train, X_train, y_train, 'retrain_minimal_sample') \n",
    "print('Trained new model.')"
   ]
  },
  {
   "cell_type": "markdown",
   "metadata": {},
   "source": [
    "### Generate predictions with the retrained model"
   ]
  },
  {
   "cell_type": "code",
   "execution_count": 47,
   "metadata": {},
   "outputs": [
    {
     "name": "stdout",
     "output_type": "stream",
     "text": [
      "Predicted labels:  ['affiliation' 'weight' 'jockey' ... 'company' 'plays' 'team Name'] true labels:  ['affiliation' 'weight' 'jockey' ... 'company' 'plays' 'continent']\n"
     ]
    }
   ],
   "source": [
    "# Predict labels using the retrained model (with nn_id retrain_minimal_sample)\n",
    "predicted_labels = predict_sherlock(X_train, 'retrain_minimal_sample')\n",
    "print('Predicted labels: ', predicted_labels, 'true labels: ', y_train)"
   ]
  },
  {
   "cell_type": "code",
   "execution_count": 50,
   "metadata": {
    "scrolled": true
   },
   "outputs": [
    {
     "name": "stderr",
     "output_type": "stream",
     "text": [
      "C:\\Users\\hulse504\\AppData\\Local\\Continuum\\anaconda3\\lib\\site-packages\\sklearn\\metrics\\classification.py:1143: UndefinedMetricWarning: F-score is ill-defined and being set to 0.0 in labels with no predicted samples.\n",
      "  'precision', 'predicted', average, warn_for)\n"
     ]
    },
    {
     "data": {
      "text/plain": [
       "0.8311504866717553"
      ]
     },
     "execution_count": 50,
     "metadata": {},
     "output_type": "execute_result"
    }
   ],
   "source": [
    "f1_score(y_train, predicted_labels, average='weighted')"
   ]
  },
  {
   "cell_type": "code",
   "execution_count": null,
   "metadata": {},
   "outputs": [],
   "source": []
  }
 ],
 "metadata": {
  "kernelspec": {
   "display_name": "Python 3",
   "language": "python",
   "name": "python3"
  },
  "language_info": {
   "codemirror_mode": {
    "name": "ipython",
    "version": 3
   },
   "file_extension": ".py",
   "mimetype": "text/x-python",
   "name": "python",
   "nbconvert_exporter": "python",
   "pygments_lexer": "ipython3",
   "version": "3.6.7"
  }
 },
 "nbformat": 4,
 "nbformat_minor": 2
}
