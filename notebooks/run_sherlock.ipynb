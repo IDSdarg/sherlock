{
 "cells": [
  {
   "cell_type": "markdown",
   "metadata": {},
   "source": [
    "# Extract features, retrain Sherlock and generate predictions."
   ]
  },
  {
   "cell_type": "markdown",
   "metadata": {},
   "source": [
    "### Necessary imports"
   ]
  },
  {
   "cell_type": "code",
   "execution_count": 6,
   "metadata": {},
   "outputs": [],
   "source": [
    "import pandas as pd\n",
    "import numpy as np\n",
    "import sys\n",
    "import pickle\n",
    "sys.path.append(\"..\")"
   ]
  },
  {
   "cell_type": "code",
   "execution_count": 7,
   "metadata": {},
   "outputs": [],
   "source": [
    "from src.features.build_features import build_features\n",
    "from src.deploy.train_sherlock import train_sherlock\n",
    "from src.deploy.predict_sherlock import predict_sherlock"
   ]
  },
  {
   "cell_type": "markdown",
   "metadata": {},
   "source": [
    "### Load small raw data sample and corresponding labels"
   ]
  },
  {
   "cell_type": "code",
   "execution_count": 3,
   "metadata": {},
   "outputs": [],
   "source": [
    "data = pd.read_csv('../data/raw/test_values.csv', sep=',', index_col=0, header=None)\n",
    "labs = pd.read_csv('../data/raw/test_labels.csv', sep=',', index_col=0, header=None)"
   ]
  },
  {
   "cell_type": "code",
   "execution_count": 4,
   "metadata": {},
   "outputs": [
    {
     "data": {
      "text/html": [
       "<div>\n",
       "<style scoped>\n",
       "    .dataframe tbody tr th:only-of-type {\n",
       "        vertical-align: middle;\n",
       "    }\n",
       "\n",
       "    .dataframe tbody tr th {\n",
       "        vertical-align: top;\n",
       "    }\n",
       "\n",
       "    .dataframe thead th {\n",
       "        text-align: right;\n",
       "    }\n",
       "</style>\n",
       "<table border=\"1\" class=\"dataframe\">\n",
       "  <thead>\n",
       "    <tr style=\"text-align: right;\">\n",
       "      <th></th>\n",
       "      <th>1</th>\n",
       "    </tr>\n",
       "    <tr>\n",
       "      <th>0</th>\n",
       "      <th></th>\n",
       "    </tr>\n",
       "  </thead>\n",
       "  <tbody>\n",
       "    <tr>\n",
       "      <th>20368</th>\n",
       "      <td>['Central Missouri', 'unattached', 'unattached...</td>\n",
       "    </tr>\n",
       "    <tr>\n",
       "      <th>664102</th>\n",
       "      <td>[95, 100, 95, 89, 84, 91, 88, 94, 75, 78, 90, ...</td>\n",
       "    </tr>\n",
       "    <tr>\n",
       "      <th>366813</th>\n",
       "      <td>['Katie Crews', 'Christian Hiraldo', 'Alex Est...</td>\n",
       "    </tr>\n",
       "    <tr>\n",
       "      <th>530567</th>\n",
       "      <td>['Christian', 'Non-Christian', 'Unreported', '...</td>\n",
       "    </tr>\n",
       "    <tr>\n",
       "      <th>176253</th>\n",
       "      <td>['AAF-McQuay Canada Inc.', 'AAF-McQuay Canada ...</td>\n",
       "    </tr>\n",
       "  </tbody>\n",
       "</table>\n",
       "</div>"
      ],
      "text/plain": [
       "                                                        1\n",
       "0                                                        \n",
       "20368   ['Central Missouri', 'unattached', 'unattached...\n",
       "664102  [95, 100, 95, 89, 84, 91, 88, 94, 75, 78, 90, ...\n",
       "366813  ['Katie Crews', 'Christian Hiraldo', 'Alex Est...\n",
       "530567  ['Christian', 'Non-Christian', 'Unreported', '...\n",
       "176253  ['AAF-McQuay Canada Inc.', 'AAF-McQuay Canada ..."
      ]
     },
     "execution_count": 4,
     "metadata": {},
     "output_type": "execute_result"
    }
   ],
   "source": [
    "data.head()"
   ]
  },
  {
   "cell_type": "code",
   "execution_count": 5,
   "metadata": {},
   "outputs": [
    {
     "data": {
      "text/html": [
       "<div>\n",
       "<style scoped>\n",
       "    .dataframe tbody tr th:only-of-type {\n",
       "        vertical-align: middle;\n",
       "    }\n",
       "\n",
       "    .dataframe tbody tr th {\n",
       "        vertical-align: top;\n",
       "    }\n",
       "\n",
       "    .dataframe thead th {\n",
       "        text-align: right;\n",
       "    }\n",
       "</style>\n",
       "<table border=\"1\" class=\"dataframe\">\n",
       "  <thead>\n",
       "    <tr style=\"text-align: right;\">\n",
       "      <th></th>\n",
       "      <th>1</th>\n",
       "    </tr>\n",
       "    <tr>\n",
       "      <th>0</th>\n",
       "      <th></th>\n",
       "    </tr>\n",
       "  </thead>\n",
       "  <tbody>\n",
       "    <tr>\n",
       "      <th>20368</th>\n",
       "      <td>affiliation</td>\n",
       "    </tr>\n",
       "    <tr>\n",
       "      <th>664102</th>\n",
       "      <td>weight</td>\n",
       "    </tr>\n",
       "    <tr>\n",
       "      <th>366813</th>\n",
       "      <td>jockey</td>\n",
       "    </tr>\n",
       "    <tr>\n",
       "      <th>530567</th>\n",
       "      <td>religion</td>\n",
       "    </tr>\n",
       "    <tr>\n",
       "      <th>176253</th>\n",
       "      <td>company</td>\n",
       "    </tr>\n",
       "  </tbody>\n",
       "</table>\n",
       "</div>"
      ],
      "text/plain": [
       "                  1\n",
       "0                  \n",
       "20368   affiliation\n",
       "664102       weight\n",
       "366813       jockey\n",
       "530567     religion\n",
       "176253      company"
      ]
     },
     "execution_count": 5,
     "metadata": {},
     "output_type": "execute_result"
    }
   ],
   "source": [
    "labs.head()"
   ]
  },
  {
   "cell_type": "markdown",
   "metadata": {},
   "source": [
    "### Extract features of raw data samples from dataframes and save preprocessed data"
   ]
  },
  {
   "cell_type": "code",
   "execution_count": null,
   "metadata": {
    "scrolled": false
   },
   "outputs": [
    {
     "name": "stdout",
     "output_type": "stream",
     "text": [
      "Preparing feature extraction by downloading 2 files: \n",
      " ../src/features/glove.6B.50d.txt and \n",
      " ../src/features/par_vec_trained_400.pkl.docvecs.vectors_docs.npy.\n",
      "GloVe word embedding vectors were downloaded.\n",
      "Trained paragraph vector model was downloaded.\n",
      "Inferring paragraph vectors with vector dimension:  400\n",
      "Inferring paragraph vectors with vector dimension:  400\n",
      "Inferring paragraph vectors with vector dimension:  400\n",
      "Inferring paragraph vectors with vector dimension:  400\n",
      "Inferring paragraph vectors with vector dimension:  400\n",
      "Inferring paragraph vectors with vector dimension:  400\n",
      "Inferring paragraph vectors with vector dimension:  400\n",
      "Inferring paragraph vectors with vector dimension:  400\n",
      "Inferring paragraph vectors with vector dimension:  400\n",
      "Inferring paragraph vectors with vector dimension:  400\n",
      "Inferring paragraph vectors with vector dimension:  400\n",
      "Inferring paragraph vectors with vector dimension:  400\n",
      "Inferring paragraph vectors with vector dimension:  400\n",
      "Inferring paragraph vectors with vector dimension:  400\n",
      "Inferring paragraph vectors with vector dimension:  400\n",
      "Inferring paragraph vectors with vector dimension:  400\n",
      "Inferring paragraph vectors with vector dimension:  400\n",
      "Inferring paragraph vectors with vector dimension:  400\n",
      "Inferring paragraph vectors with vector dimension:  400\n",
      "Extracting features for data column  20\n",
      "Inferring paragraph vectors with vector dimension:  400\n",
      "Inferring paragraph vectors with vector dimension:  400\n",
      "Inferring paragraph vectors with vector dimension:  400\n",
      "Inferring paragraph vectors with vector dimension:  400\n",
      "Inferring paragraph vectors with vector dimension:  400\n",
      "Inferring paragraph vectors with vector dimension:  400\n",
      "Inferring paragraph vectors with vector dimension:  400\n",
      "Inferring paragraph vectors with vector dimension:  400\n",
      "Inferring paragraph vectors with vector dimension:  400\n",
      "Inferring paragraph vectors with vector dimension:  400\n",
      "Inferring paragraph vectors with vector dimension:  400\n",
      "Inferring paragraph vectors with vector dimension:  400\n",
      "Inferring paragraph vectors with vector dimension:  400\n",
      "Inferring paragraph vectors with vector dimension:  400\n",
      "Inferring paragraph vectors with vector dimension:  400\n",
      "Inferring paragraph vectors with vector dimension:  400\n",
      "Inferring paragraph vectors with vector dimension:  400\n",
      "Inferring paragraph vectors with vector dimension:  400\n",
      "Inferring paragraph vectors with vector dimension:  400\n",
      "Inferring paragraph vectors with vector dimension:  400\n",
      "Extracting features for data column  40\n",
      "Inferring paragraph vectors with vector dimension:  400\n",
      "Inferring paragraph vectors with vector dimension:  400\n",
      "Inferring paragraph vectors with vector dimension:  400\n",
      "Inferring paragraph vectors with vector dimension:  400\n",
      "Inferring paragraph vectors with vector dimension:  400\n",
      "Inferring paragraph vectors with vector dimension:  400\n",
      "Inferring paragraph vectors with vector dimension:  400\n",
      "Inferring paragraph vectors with vector dimension:  400\n",
      "Inferring paragraph vectors with vector dimension:  400\n",
      "Inferring paragraph vectors with vector dimension:  400\n",
      "Inferring paragraph vectors with vector dimension:  400\n",
      "Inferring paragraph vectors with vector dimension:  400\n",
      "Inferring paragraph vectors with vector dimension:  400\n",
      "Inferring paragraph vectors with vector dimension:  400\n",
      "Inferring paragraph vectors with vector dimension:  400\n",
      "Inferring paragraph vectors with vector dimension:  400\n",
      "Inferring paragraph vectors with vector dimension:  400\n",
      "Inferring paragraph vectors with vector dimension:  400\n",
      "Inferring paragraph vectors with vector dimension:  400\n",
      "Inferring paragraph vectors with vector dimension:  400\n",
      "Extracting features for data column  60\n",
      "Inferring paragraph vectors with vector dimension:  400\n",
      "Inferring paragraph vectors with vector dimension:  400\n",
      "Inferring paragraph vectors with vector dimension:  400\n",
      "Inferring paragraph vectors with vector dimension:  400\n",
      "Inferring paragraph vectors with vector dimension:  400\n",
      "Inferring paragraph vectors with vector dimension:  400\n",
      "Inferring paragraph vectors with vector dimension:  400\n",
      "Inferring paragraph vectors with vector dimension:  400\n",
      "Inferring paragraph vectors with vector dimension:  400\n",
      "Inferring paragraph vectors with vector dimension:  400\n",
      "Inferring paragraph vectors with vector dimension:  400\n",
      "Inferring paragraph vectors with vector dimension:  400\n",
      "Inferring paragraph vectors with vector dimension:  400\n",
      "Inferring paragraph vectors with vector dimension:  400\n",
      "Inferring paragraph vectors with vector dimension:  400\n",
      "Inferring paragraph vectors with vector dimension:  400\n",
      "Inferring paragraph vectors with vector dimension:  400\n",
      "Inferring paragraph vectors with vector dimension:  400\n",
      "Inferring paragraph vectors with vector dimension:  400\n",
      "Inferring paragraph vectors with vector dimension:  400\n",
      "Extracting features for data column  80\n",
      "Inferring paragraph vectors with vector dimension:  400\n",
      "Inferring paragraph vectors with vector dimension:  400\n",
      "Inferring paragraph vectors with vector dimension:  400\n",
      "Inferring paragraph vectors with vector dimension:  400\n",
      "Inferring paragraph vectors with vector dimension:  400\n",
      "Inferring paragraph vectors with vector dimension:  400\n",
      "Inferring paragraph vectors with vector dimension:  400\n",
      "Inferring paragraph vectors with vector dimension:  400\n",
      "Inferring paragraph vectors with vector dimension:  400\n",
      "Inferring paragraph vectors with vector dimension:  400\n",
      "Inferring paragraph vectors with vector dimension:  400\n",
      "Inferring paragraph vectors with vector dimension:  400\n",
      "Inferring paragraph vectors with vector dimension:  400\n",
      "Inferring paragraph vectors with vector dimension:  400\n"
     ]
    }
   ],
   "source": [
    "X_train = build_features(data)\n",
    "y_train = labs.values.flatten()\n",
    "print('Extracted features.')"
   ]
  },
  {
   "cell_type": "code",
   "execution_count": null,
   "metadata": {},
   "outputs": [],
   "source": [
    "with open('../data/processed/X_train.data', 'wb') as f:\n",
    "    pickle.dump(X_train, f)\n",
    "    \n",
    "with open('../data/processed/y_train.data', 'wb') as f:\n",
    "    pickle.dump(y_train, f)"
   ]
  },
  {
   "cell_type": "code",
   "execution_count": null,
   "metadata": {},
   "outputs": [],
   "source": [
    "with open('../data/processed/X_train.data', 'rb') as f:\n",
    "    X_train = pickle.load(f)\n",
    "    \n",
    "with open('../data/processed/y_train.data', 'rb') as f:\n",
    "    y_train = pickle.load(f)"
   ]
  },
  {
   "cell_type": "markdown",
   "metadata": {},
   "source": [
    "### Train sherlock on new data"
   ]
  },
  {
   "cell_type": "code",
   "execution_count": null,
   "metadata": {},
   "outputs": [],
   "source": [
    "train_sherlock(X_train, y_train, X_train, y_train, 'retrain_minimal_sample')\n",
    "print('Trained new model.')"
   ]
  },
  {
   "cell_type": "markdown",
   "metadata": {},
   "source": [
    "### Generate predictions with the retrained model"
   ]
  },
  {
   "cell_type": "code",
   "execution_count": null,
   "metadata": {},
   "outputs": [],
   "source": [
    "# Predict labels using the retrained model (with nn_id retrain_minimal_sample)\n",
    "predicted_labels = predict_sherlock(X_train, 'retrain_minimal_sample')\n",
    "print('Predicted labels: ', predicted_labels, 'true labels: ', y_train)"
   ]
  },
  {
   "cell_type": "markdown",
   "metadata": {},
   "source": [
    "### FIRST COPY to a classes_sherlock.npy FILE, which should be the same as the retrain_minimal_sample file!!!"
   ]
  },
  {
   "cell_type": "code",
   "execution_count": null,
   "metadata": {},
   "outputs": [],
   "source": [
    "# Predict labels using the original model (with nn_id sherlock)\n",
    "predicted_labels = predict_sherlock(X_train, 'sherlock')\n",
    "print('Predicted labels: ', predicted_labels, 'true labels: ', y_train)"
   ]
  },
  {
   "cell_type": "code",
   "execution_count": null,
   "metadata": {},
   "outputs": [],
   "source": []
  }
 ],
 "metadata": {
  "kernelspec": {
   "display_name": "Python 3",
   "language": "python",
   "name": "python3"
  },
  "language_info": {
   "codemirror_mode": {
    "name": "ipython",
    "version": 3
   },
   "file_extension": ".py",
   "mimetype": "text/x-python",
   "name": "python",
   "nbconvert_exporter": "python",
   "pygments_lexer": "ipython3",
   "version": "3.6.7"
  }
 },
 "nbformat": 4,
 "nbformat_minor": 2
}
